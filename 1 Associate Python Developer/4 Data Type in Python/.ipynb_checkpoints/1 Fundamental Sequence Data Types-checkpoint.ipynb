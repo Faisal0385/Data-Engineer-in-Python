{
 "cells": [
  {
   "cell_type": "markdown",
   "id": "64fb22a2-1a9c-44a3-a93f-94857a6d6f80",
   "metadata": {},
   "source": [
    "# 📚✨ Fundamental Sequence Data Types 🔢📊"
   ]
  },
  {
   "cell_type": "markdown",
   "id": "d4d87f7c-33c1-401f-a3bb-04d303cab24e",
   "metadata": {},
   "source": [
    "***"
   ]
  },
  {
   "cell_type": "markdown",
   "id": "64c3e14f-cdf4-41f0-8337-77c5d611cfb6",
   "metadata": {},
   "source": [
    "### 📊 Data Types\n",
    "* 🧱 Data type system sets the stage for the capabilities of the language.\n",
    "* 💡 Understanding data types empowers us as a data scientist."
   ]
  },
  {
   "cell_type": "markdown",
   "id": "70f7b079-adc2-4431-84eb-269c221158f1",
   "metadata": {},
   "source": [
    "### 📦 Container Sequences\n",
    "* 📥 Hold other types of data.\n",
    "* 🔢 Used for aggregation, sorting, and more.\n",
    "* 🔄 Can be mutable (🟢 list, 🟠 set) or immutable (🔵 tuple).\n",
    "* 🔁 Iterable (can loop through elements)."
   ]
  },
  {
   "cell_type": "markdown",
   "id": "69bf94ff-a3bb-406b-b2f4-2df493e2e52b",
   "metadata": {},
   "source": [
    "## Lists\n",
    "Hold data in order it was added\n",
    "Mutable\n",
    "Index"
   ]
  },
  {
   "cell_type": "code",
   "execution_count": 31,
   "id": "42ed850b-be63-48bb-9bed-2cb12351e2e2",
   "metadata": {},
   "outputs": [
    {
     "name": "stdout",
     "output_type": "stream",
     "text": [
      "['chocolate chip', 'peanut butter', 'sugar']\n"
     ]
    }
   ],
   "source": [
    "# create a list\n",
    "# 📝 Assigning a value to a variable\n",
    "cookies = ['chocolate chip','peanut butter','sugar']\n",
    "# print it\n",
    "# 📢 Display output on the console\n",
    "print(cookies)"
   ]
  },
  {
   "cell_type": "markdown",
   "id": "a959c21b-7a08-4b69-abba-f1b8689bce94",
   "metadata": {},
   "source": [
    "#### Accessing single items in list"
   ]
  },
  {
   "cell_type": "code",
   "execution_count": 32,
   "id": "23afc694-71a1-4b34-ba92-aebdec0af952",
   "metadata": {},
   "outputs": [
    {
     "name": "stdout",
     "output_type": "stream",
     "text": [
      "['chocolate chip', 'peanut butter', 'sugar', 'Tirggel']\n",
      "sugar\n"
     ]
    }
   ],
   "source": [
    "cookies.append('Tirggel')\n",
    "\n",
    "# 📢 Display output on the console\n",
    "print(cookies)\n",
    "# 📢 Display output on the console\n",
    "print(cookies[2])"
   ]
  },
  {
   "cell_type": "markdown",
   "id": "49b66f0d-d8fb-4c85-a1c9-f96b99f4d4e9",
   "metadata": {},
   "source": [
    "#### Combining lists\n",
    "* Using operators, we can combine two lists into a new one"
   ]
  },
  {
   "cell_type": "code",
   "execution_count": 33,
   "id": "aa3063b2-cc48-47f8-aa2f-cef262472a52",
   "metadata": {},
   "outputs": [
    {
     "name": "stdout",
     "output_type": "stream",
     "text": [
      "['chocolate chip', 'peanut butter', 'sugar', 'Tirggel', 'strawberry', 'vanilla']\n"
     ]
    }
   ],
   "source": [
    "# 📝 Assigning a value to a variable\n",
    "cakes = ['strawberry','vanilla']\n",
    "# 📝 Assigning a value to a variable\n",
    "desserts = cookies + cakes\n",
    "# 📢 Display output on the console\n",
    "print(desserts)"
   ]
  },
  {
   "cell_type": "markdown",
   "id": "71a152bd-9696-4cd4-a39c-7aba682908a5",
   "metadata": {},
   "source": [
    "* .extend() method merges a list into another list at the end"
   ]
  },
  {
   "cell_type": "code",
   "execution_count": 34,
   "id": "156ebb76-ed41-4600-bef2-46f15dfc1c52",
   "metadata": {},
   "outputs": [
    {
     "name": "stdout",
     "output_type": "stream",
     "text": [
      "['chocolate chip', 'peanut butter', 'sugar', 'Tirggel', 'strawberry', 'vanilla']\n"
     ]
    }
   ],
   "source": [
    "cookies.extend(cakes)\n",
    "# 📢 Display output on the console\n",
    "print(cookies)"
   ]
  },
  {
   "cell_type": "markdown",
   "id": "1846f99d-7762-4092-9f69-3ab9c9dcd2b4",
   "metadata": {},
   "source": [
    "#### Finding elements in a list\n",
    "* .index() method locates the position of a data element in a list"
   ]
  },
  {
   "cell_type": "code",
   "execution_count": 35,
   "id": "a57d28e7-eefa-4116-b9fb-b88fea5bc3c1",
   "metadata": {},
   "outputs": [
    {
     "name": "stdout",
     "output_type": "stream",
     "text": [
      "2\n"
     ]
    }
   ],
   "source": [
    "# 📝 Assigning a value to a variable\n",
    "position = cookies.index('sugar')\n",
    "# 📢 Display output on the console\n",
    "print(position)"
   ]
  },
  {
   "cell_type": "markdown",
   "id": "d05a83c4-5b82-44b9-9274-67d409507d42",
   "metadata": {},
   "source": [
    "#### Removing elements in a List\n",
    "* .pop() method removes an item from a list and allows you to save it"
   ]
  },
  {
   "cell_type": "code",
   "execution_count": 36,
   "id": "96425b7b-29a7-48d6-a1c8-0cfb34327f25",
   "metadata": {},
   "outputs": [
    {
     "name": "stdout",
     "output_type": "stream",
     "text": [
      "sugar\n"
     ]
    }
   ],
   "source": [
    "# 📝 Assigning a value to a variable\n",
    "name = cookies.pop(position)\n",
    "# 📢 Display output on the console\n",
    "print(name)"
   ]
  },
  {
   "cell_type": "code",
   "execution_count": 37,
   "id": "ff1bbcc4-3643-4e5e-aad8-a92e12ddcb40",
   "metadata": {},
   "outputs": [
    {
     "name": "stdout",
     "output_type": "stream",
     "text": [
      "['chocolate chip', 'peanut butter', 'Tirggel', 'strawberry', 'vanilla']\n"
     ]
    }
   ],
   "source": [
    "# 📢 Display output on the console\n",
    "print(cookies)"
   ]
  },
  {
   "cell_type": "markdown",
   "id": "0c2b122a-17f8-483b-836d-7a2cf030e8d2",
   "metadata": {},
   "source": [
    "#### Iterating over lists\n",
    "* List comprehensions are a common way of iterating over a list to perform some action on them"
   ]
  },
  {
   "cell_type": "code",
   "execution_count": 38,
   "id": "3a23c92b-172b-4d0e-b471-2d20b714048f",
   "metadata": {},
   "outputs": [
    {
     "name": "stdout",
     "output_type": "stream",
     "text": [
      "['Chocolate Chip', 'Peanut Butter', 'Tirggel', 'Strawberry', 'Vanilla']\n"
     ]
    }
   ],
   "source": [
    "# 📝 Assigning a value to a variable\n",
    "titlecase_cookies = [cookie.title() for cookie in cookies]\n",
    "# 📢 Display output on the console\n",
    "print(titlecase_cookies)"
   ]
  },
  {
   "cell_type": "markdown",
   "id": "96f655b7-38cd-4a75-a011-b55d14f57779",
   "metadata": {},
   "source": [
    "#### Sorting lists\n",
    "* sorted() function sorts data in numerical or alphabetical order and returns a new list"
   ]
  },
  {
   "cell_type": "code",
   "execution_count": 39,
   "id": "043c710f-4737-4b3f-aac9-2736c4108949",
   "metadata": {},
   "outputs": [
    {
     "name": "stdout",
     "output_type": "stream",
     "text": [
      "['Tirggel', 'chocolate chip', 'peanut butter', 'strawberry', 'vanilla']\n"
     ]
    }
   ],
   "source": [
    "# 📝 Assigning a value to a variable\n",
    "sorted_cookies = sorted(cookies)\n",
    "# 📢 Display output on the console\n",
    "print(sorted_cookies)"
   ]
  },
  {
   "cell_type": "code",
   "execution_count": null,
   "id": "67a53c0f-603c-42a0-a677-58a37f0635d8",
   "metadata": {},
   "outputs": [],
   "source": []
  }
 ],
 "metadata": {
  "kernelspec": {
   "display_name": "Python 3 (ipykernel)",
   "language": "python",
   "name": "python3"
  },
  "language_info": {
   "codemirror_mode": {
    "name": "ipython",
    "version": 3
   },
   "file_extension": ".py",
   "mimetype": "text/x-python",
   "name": "python",
   "nbconvert_exporter": "python",
   "pygments_lexer": "ipython3",
   "version": "3.12.2"
  }
 },
 "nbformat": 4,
 "nbformat_minor": 5
}
