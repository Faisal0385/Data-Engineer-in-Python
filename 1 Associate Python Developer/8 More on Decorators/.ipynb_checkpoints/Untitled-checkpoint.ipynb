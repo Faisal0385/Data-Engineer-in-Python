{
 "cells": [
  {
   "cell_type": "code",
   "execution_count": null,
   "id": "f46b9a2a-6e5c-4386-abb9-5eeaa5184d6c",
   "metadata": {},
   "outputs": [],
   "source": [
    "Real-world examples\n",
    "50 XP\n",
    "Print the return type\n",
    "100 XP\n",
    "Counter\n",
    "100 XP\n",
    "Decorators and metadata\n",
    "50 XP\n",
    "Preserving docstrings when decorating functions\n",
    "100 XP\n",
    "Measuring decorator overhead\n",
    "100 XP\n",
    "Decorators that take arguments\n",
    "50 XP\n",
    "Run_n_times()\n",
    "100 XP\n",
    "HTML Generator\n",
    "100 XP\n",
    "Timeout(): a real world example\n",
    "50 XP\n",
    "Tag your functions\n",
    "100 XP\n",
    "Check the return type\n",
    "100 XP\n",
    "Great job!"
   ]
  }
 ],
 "metadata": {
  "kernelspec": {
   "display_name": "Python 3 (ipykernel)",
   "language": "python",
   "name": "python3"
  },
  "language_info": {
   "codemirror_mode": {
    "name": "ipython",
    "version": 3
   },
   "file_extension": ".py",
   "mimetype": "text/x-python",
   "name": "python",
   "nbconvert_exporter": "python",
   "pygments_lexer": "ipython3",
   "version": "3.12.2"
  }
 },
 "nbformat": 4,
 "nbformat_minor": 5
}
