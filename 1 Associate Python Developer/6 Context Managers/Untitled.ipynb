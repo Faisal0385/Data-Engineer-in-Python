{
 "cells": [
  {
   "cell_type": "markdown",
   "id": "43085a15-6841-431a-a939-7a9bf76193c3",
   "metadata": {},
   "source": [
    "Using context managers\n",
    "50 XP\n",
    "The number of cats\n",
    "100 XP\n",
    "The speed of cats\n",
    "100 XP\n",
    "Writing context managers\n",
    "50 XP\n",
    "The timer() context manager\n",
    "100 XP\n",
    "A read-only open() context manager\n",
    "100 XP\n",
    "Advanced topics\n",
    "50 XP\n",
    "Context manager use cases\n",
    "50 XP\n",
    "Scraping the NASDAQ\n",
    "100 XP\n",
    "Changing the working directory\n"
   ]
  }
 ],
 "metadata": {
  "kernelspec": {
   "display_name": "Python 3 (ipykernel)",
   "language": "python",
   "name": "python3"
  },
  "language_info": {
   "codemirror_mode": {
    "name": "ipython",
    "version": 3
   },
   "file_extension": ".py",
   "mimetype": "text/x-python",
   "name": "python",
   "nbconvert_exporter": "python",
   "pygments_lexer": "ipython3",
   "version": "3.12.2"
  }
 },
 "nbformat": 4,
 "nbformat_minor": 5
}
