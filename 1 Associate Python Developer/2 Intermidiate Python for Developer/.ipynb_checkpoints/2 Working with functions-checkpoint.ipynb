{
 "cells": [
  {
   "cell_type": "markdown",
   "id": "ea1a47dc-5280-47f7-9136-514833875fdb",
   "metadata": {},
   "source": [
    "# Working with functions"
   ]
  },
  {
   "cell_type": "code",
   "execution_count": null,
   "id": "063253a4-a2fd-4319-9d46-c34d1ee83ddb",
   "metadata": {},
   "outputs": [],
   "source": []
  }
 ],
 "metadata": {
  "kernelspec": {
   "display_name": "Python 3 (ipykernel)",
   "language": "python",
   "name": "python3"
  },
  "language_info": {
   "codemirror_mode": {
    "name": "ipython",
    "version": 3
   },
   "file_extension": ".py",
   "mimetype": "text/x-python",
   "name": "python",
   "nbconvert_exporter": "python",
   "pygments_lexer": "ipython3",
   "version": "3.12.2"
  }
 },
 "nbformat": 4,
 "nbformat_minor": 5
}
