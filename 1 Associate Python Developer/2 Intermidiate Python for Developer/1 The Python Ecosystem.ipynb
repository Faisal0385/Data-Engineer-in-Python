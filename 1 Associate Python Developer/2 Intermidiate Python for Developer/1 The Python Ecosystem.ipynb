{
 "cells": [
  {
   "cell_type": "markdown",
   "id": "38aa5a37-bfdc-44d4-b65f-69f3e4aed46f",
   "metadata": {},
   "source": [
    "# The Python Ecosystem"
   ]
  },
  {
   "cell_type": "code",
   "execution_count": null,
   "id": "44cd7f3d-8b32-401e-b3f8-16bd4d37f54e",
   "metadata": {},
   "outputs": [],
   "source": []
  }
 ],
 "metadata": {
  "kernelspec": {
   "display_name": "Python 3 (ipykernel)",
   "language": "python",
   "name": "python3"
  },
  "language_info": {
   "codemirror_mode": {
    "name": "ipython",
    "version": 3
   },
   "file_extension": ".py",
   "mimetype": "text/x-python",
   "name": "python",
   "nbconvert_exporter": "python",
   "pygments_lexer": "ipython3",
   "version": "3.12.2"
  }
 },
 "nbformat": 4,
 "nbformat_minor": 5
}
