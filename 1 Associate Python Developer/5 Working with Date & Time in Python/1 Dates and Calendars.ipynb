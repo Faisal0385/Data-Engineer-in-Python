{
 "cells": [
  {
   "cell_type": "markdown",
   "id": "48679d46-b537-4c58-9a50-f86bee97ab1c",
   "metadata": {},
   "source": [
    "# 📅 Working with Dates and Times in Python"
   ]
  },
  {
   "cell_type": "markdown",
   "id": "06e9b77a-9876-43d0-8a53-efec4d76eb19",
   "metadata": {},
   "source": [
    "### 📌 Why do we need a date class in Python?\n",
    "#### Example list of hurricane dates in string format"
   ]
  },
  {
   "cell_type": "markdown",
   "id": "6c2fbad6-fe4d-42d6-aba4-230afa88e712",
   "metadata": {},
   "source": [
    "#### 🛠️ Import necessary modules"
   ]
  },
  {
   "cell_type": "code",
   "execution_count": null,
   "id": "bc28043d-4c06-4736-8e7f-d861df7401b0",
   "metadata": {},
   "outputs": [],
   "source": [
    "from datetime import date, timedelta"
   ]
  },
  {
   "cell_type": "code",
   "execution_count": null,
   "id": "e33c5759-c456-45ea-b749-fa39788f200f",
   "metadata": {},
   "outputs": [],
   "source": [
    "two_hurricanes = [\"10/7/2016\", \"6/21/2017\"]"
   ]
  },
  {
   "cell_type": "markdown",
   "id": "28603f20-8a1b-431f-9027-7b3ecb65257c",
   "metadata": {},
   "source": [
    "#### Issues:\n",
    "* ❌ How many days elapsed between them?\n",
    "* ❌ Are they in order?\n",
    "* ❌ What day of the week did each fall on?"
   ]
  },
  {
   "cell_type": "markdown",
   "id": "934b72ea-793a-416f-9821-0a8660475c49",
   "metadata": {},
   "source": [
    "#### ✅ Creating Date Objects\n",
    "#### Convert the string dates into Python date objects"
   ]
  },
  {
   "cell_type": "code",
   "execution_count": 2,
   "id": "f515b618-1a9a-4c4a-ad11-c41358cf257f",
   "metadata": {},
   "outputs": [
    {
     "name": "stdout",
     "output_type": "stream",
     "text": [
      "[datetime.date(2016, 10, 7), datetime.date(2017, 6, 21)]\n"
     ]
    }
   ],
   "source": [
    "two_hurricanes_dates = [date(2016, 10, 7),) date(2017, 6, 21]\n",
    "print(two_hurricanes_dates)"
   ]
  },
  {
   "cell_type": "markdown",
   "id": "07714dc7-83ca-4f20-8280-e87a5c3a543f",
   "metadata": {},
   "source": [
    "#### 🎯 Attributes of a Date"
   ]
  },
  {
   "cell_type": "code",
   "execution_count": 3,
   "id": "71a30f2e-3ba0-47cb-a173-6c5574174b4c",
   "metadata": {},
   "outputs": [
    {
     "name": "stdout",
     "output_type": "stream",
     "text": [
      "Year: 2016\n",
      "Month: 10\n",
      "Day: 7\n"
     ]
    }
   ],
   "source": [
    "first_date = two_hurricanes_dates[0]\n",
    "print(\"Year:\", first_date.year)  # 2016\n",
    "print(\"Month:\", first_date.month)  # 10\n",
    "print(\"Day:\", first_date.day)  # 7"
   ]
  },
  {
   "cell_type": "markdown",
   "id": "ff8e182e-8005-41ed-945a-4894d51a5fc3",
   "metadata": {},
   "source": [
    "#### 📆 Finding the Weekday of a Date"
   ]
  },
  {
   "cell_type": "code",
   "execution_count": 4,
   "id": "ef099869-00f6-4c10-800f-a1639277587e",
   "metadata": {},
   "outputs": [
    {
     "name": "stdout",
     "output_type": "stream",
     "text": [
      "Weekday (0=Monday, ..., 6=Sunday): 4\n"
     ]
    }
   ],
   "source": [
    "print(\"Weekday (0=Monday, ..., 6=Sunday):\", first_date.weekday())  # 4 (Friday)"
   ]
  },
  {
   "cell_type": "markdown",
   "id": "7250b2f5-76ee-4785-b1ee-ab69741d6280",
   "metadata": {},
   "source": [
    "#### ➗ Math with Dates\n",
    "##### Example dates"
   ]
  },
  {
   "cell_type": "code",
   "execution_count": 5,
   "id": "ccde4a04-893e-443a-b9e5-381024624b09",
   "metadata": {},
   "outputs": [],
   "source": [
    "d1 = date(2017, 11, 5)\n",
    "d2 = date(2017, 12, 4)"
   ]
  },
  {
   "cell_type": "code",
   "execution_count": 13,
   "id": "eb8a6f76-7e09-434f-86ae-6de515262904",
   "metadata": {},
   "outputs": [
    {
     "name": "stdout",
     "output_type": "stream",
     "text": [
      "Earlier Date: 2017-11-05\n"
     ]
    }
   ],
   "source": [
    "# 🔢 Finding the minimum date\n",
    "print(\"Earlier Date:\", min(d1, d2))"
   ]
  },
  {
   "cell_type": "code",
   "execution_count": 7,
   "id": "5cf11b8b-2ebf-43e4-ae07-1deb23425382",
   "metadata": {},
   "outputs": [
    {
     "name": "stdout",
     "output_type": "stream",
     "text": [
      "Days between dates: 29\n"
     ]
    }
   ],
   "source": [
    "# ➖ Subtracting Dates\n",
    "delta = d2 - d1\n",
    "print(\"Days between dates:\", delta.days)  # 29 days"
   ]
  },
  {
   "cell_type": "code",
   "execution_count": 8,
   "id": "4ba44e12-3989-4028-b970-a880df33b507",
   "metadata": {},
   "outputs": [
    {
     "name": "stdout",
     "output_type": "stream",
     "text": [
      "New Date after adding 29 days: 2017-12-04\n"
     ]
    }
   ],
   "source": [
    "# ➕ Adding Days with timedelta\n",
    "td = timedelta(days=29)\n",
    "print(\"New Date after adding 29 days:\", d1 + td)"
   ]
  },
  {
   "cell_type": "code",
   "execution_count": 9,
   "id": "09c5912f-b5a2-4245-89fe-571e255773e8",
   "metadata": {},
   "outputs": [
    {
     "name": "stdout",
     "output_type": "stream",
     "text": [
      "Incremented x: 1\n"
     ]
    }
   ],
   "source": [
    "# 🔄 Incrementing Variables\n",
    "x = 0\n",
    "x += 1\n",
    "print(\"Incremented x:\", x)  # 1"
   ]
  },
  {
   "cell_type": "markdown",
   "id": "f65b780c-ee14-4572-a2f1-f391fffde21c",
   "metadata": {},
   "source": [
    "#### ISO 8601 format"
   ]
  },
  {
   "cell_type": "code",
   "execution_count": 14,
   "id": "96b7b347-a52e-4227-8aa1-3967cf9a9e2f",
   "metadata": {},
   "outputs": [
    {
     "name": "stdout",
     "output_type": "stream",
     "text": [
      "ISO Format: 2017-11-05\n"
     ]
    }
   ],
   "source": [
    "# 🖊️ Formatting Dates\n",
    "d = date(2017, 11, 5)\n",
    "print(\"ISO Format:\", d.isoformat())  # '2017-11-05'"
   ]
  },
  {
   "cell_type": "code",
   "execution_count": 11,
   "id": "7cf73058-e3d3-4290-8ac6-0b29e6226c28",
   "metadata": {},
   "outputs": [
    {
     "name": "stdout",
     "output_type": "stream",
     "text": [
      "Year only: 2017\n",
      "Formatted date: 2017/11/05\n"
     ]
    }
   ],
   "source": [
    "# 📌 Using strftime for Custom Formatting\n",
    "print(\"Year only:\", d.strftime(\"%Y\"))  # '2017'\n",
    "print(\"Formatted date:\", d.strftime(\"%Y/%m/%d\"))  # '2017/11/05'"
   ]
  },
  {
   "cell_type": "code",
   "execution_count": null,
   "id": "78dab354-6276-4613-8344-9058f4c66772",
   "metadata": {},
   "outputs": [],
   "source": []
  }
 ],
 "metadata": {
  "kernelspec": {
   "display_name": "Python 3 (ipykernel)",
   "language": "python",
   "name": "python3"
  },
  "language_info": {
   "codemirror_mode": {
    "name": "ipython",
    "version": 3
   },
   "file_extension": ".py",
   "mimetype": "text/x-python",
   "name": "python",
   "nbconvert_exporter": "python",
   "pygments_lexer": "ipython3",
   "version": "3.12.2"
  }
 },
 "nbformat": 4,
 "nbformat_minor": 5
}
