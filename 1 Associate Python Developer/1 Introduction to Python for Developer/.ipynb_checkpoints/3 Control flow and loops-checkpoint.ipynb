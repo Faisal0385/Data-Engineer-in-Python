{
 "cells": [
  {
   "cell_type": "markdown",
   "id": "fca987a4-fe4f-44fc-a9a5-6a7f00cbe024",
   "metadata": {},
   "source": [
    "# Control flow and loops"
   ]
  },
  {
   "cell_type": "markdown",
   "id": "a9d5de83-4928-466c-9813-19d8537e5a9b",
   "metadata": {},
   "source": [
    "Conditional statements and operators\n",
    "50 XP\n",
    "Checking inflation\n",
    "100 XP\n",
    "On the rental market\n",
    "100 XP\n",
    "For loops\n",
    "50 XP\n",
    "Looping through a list\n",
    "100 XP\n",
    "Updating a variable with for loops\n",
    "100 XP\n",
    "Conditional looping with a dictionary\n",
    "100 XP\n",
    "While loops\n",
    "50 XP\n",
    "Breaking a while loop\n",
    "50 XP\n",
    "Converting to a while loop\n",
    "100 XP\n",
    "Conditional while loops\n",
    "100 XP\n",
    "Building a workflow\n",
    "50 XP\n",
    "Appending to a list\n",
    "100 XP\n",
    "Book genre popularity\n",
    "100 XP\n",
    "Working with keywords\n",
    "100 XP\n",
    "Congratulations!"
   ]
  }
 ],
 "metadata": {
  "kernelspec": {
   "display_name": "Python 3 (ipykernel)",
   "language": "python",
   "name": "python3"
  },
  "language_info": {
   "codemirror_mode": {
    "name": "ipython",
    "version": 3
   },
   "file_extension": ".py",
   "mimetype": "text/x-python",
   "name": "python",
   "nbconvert_exporter": "python",
   "pygments_lexer": "ipython3",
   "version": "3.12.2"
  }
 },
 "nbformat": 4,
 "nbformat_minor": 5
}
