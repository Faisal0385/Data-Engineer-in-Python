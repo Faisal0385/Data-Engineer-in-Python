{
 "cells": [
  {
   "cell_type": "markdown",
   "id": "a02d8ab9-d71b-4b55-b3a3-6389d46f4872",
   "metadata": {},
   "source": [
    "# Introduction to Python"
   ]
  },
  {
   "cell_type": "markdown",
   "id": "bc66ea3b-3370-4a27-a98f-1fa04a695a38",
   "metadata": {},
   "source": [
    "What is Python?"
   ]
  },
  {
   "cell_type": "markdown",
   "id": "0de48da5-b050-4b69-8339-356dec124ba5",
   "metadata": {},
   "source": [
    "Writing our first Python script"
   ]
  },
  {
   "cell_type": "code",
   "execution_count": 3,
   "id": "3d2c11f1-0adc-405a-9342-17b518a68480",
   "metadata": {},
   "outputs": [
    {
     "name": "stdout",
     "output_type": "stream",
     "text": [
      "Love Python!!\n"
     ]
    }
   ],
   "source": [
    "print(\"Love Python!!\")"
   ]
  },
  {
   "cell_type": "code",
   "execution_count": null,
   "id": "4c262433-0dc2-4b64-884d-18c093bcc61e",
   "metadata": {},
   "outputs": [],
   "source": [
    "print(\"Learning Python\")"
   ]
  },
  {
   "cell_type": "markdown",
   "id": "33c154fb-2703-4425-a200-772af106b759",
   "metadata": {},
   "source": [
    "#### Python Syntax"
   ]
  },
  {
   "cell_type": "markdown",
   "id": "89070e10-08e7-4ff6-a5a5-6e93b346ebe7",
   "metadata": {},
   "source": [
    "Python as a calculator"
   ]
  },
  {
   "cell_type": "code",
   "execution_count": 3,
   "id": "31a2f7f4-4b4f-45fd-b0dc-a4be25928ba6",
   "metadata": {},
   "outputs": [
    {
     "name": "stdout",
     "output_type": "stream",
     "text": [
      "36\n",
      "-87\n",
      "18\n",
      "10.0\n"
     ]
    }
   ],
   "source": [
    "# Add 19 and 17\n",
    "print(19 + 17)\n",
    "\n",
    "# Subtract 12 from 99\n",
    "print(12 - 99)\n",
    "\n",
    "# Calculate and print 9 multiplied by 2\n",
    "print(9*2)\n",
    "\n",
    "# Print the result of dividing 120 by 12\n",
    "print(120 / 12)"
   ]
  },
  {
   "cell_type": "markdown",
   "id": "9b3a3906-910e-4ba3-8b67-c998e7a56139",
   "metadata": {},
   "source": [
    "#### Variables"
   ]
  },
  {
   "cell_type": "markdown",
   "id": "9c6a2869-a1e4-420a-967f-9581ce206967",
   "metadata": {},
   "source": [
    "Working with number variables"
   ]
  },
  {
   "cell_type": "code",
   "execution_count": null,
   "id": "04605bdf-ae77-4a80-a2de-7563de11ba08",
   "metadata": {},
   "outputs": [],
   "source": [
    "# Age of a customer\n",
    "customer_age = 27\n",
    "\n",
    "# Create account_balance variable\n",
    "account_balance = 120.5\n",
    "\n",
    "# Print account_balance\n",
    "print(account_balance)"
   ]
  },
  {
   "cell_type": "markdown",
   "id": "4e34c254-9d7a-4a5a-997b-37f528069bf9",
   "metadata": {},
   "source": [
    "Updating variable values"
   ]
  },
  {
   "cell_type": "code",
   "execution_count": 4,
   "id": "f76a7988-ddcf-41f5-8618-5964b6241c9f",
   "metadata": {},
   "outputs": [
    {
     "name": "stdout",
     "output_type": "stream",
     "text": [
      "1300000.0\n",
      "True\n"
     ]
    }
   ],
   "source": [
    "account_balance = 20000.00\n",
    "is_millionaire = False\n",
    "\n",
    "# Update account balance\n",
    "account_balance = 1300000.00\n",
    "# Update is_millionaire variable\n",
    "is_millionaire = True\n",
    "\n",
    "print(account_balance)\n",
    "print(is_millionaire)"
   ]
  },
  {
   "cell_type": "markdown",
   "id": "b07d41ad-8f05-4ef8-a775-979d9fbf7dc9",
   "metadata": {},
   "source": [
    "Checking data types"
   ]
  },
  {
   "cell_type": "code",
   "execution_count": null,
   "id": "6b5e0585-fcda-436d-a2dd-5058ca507ee8",
   "metadata": {},
   "outputs": [],
   "source": [
    "customer_age = 49\n",
    "\n",
    "# Print the data type of customer_age\n",
    "print(type(customer_age))\n",
    "\n",
    "\n",
    "customer_age = 49\n",
    "account_balance = 120078.89\n",
    "\n",
    "# Print the data type of account_balance\n",
    "print(type(account_balance))\n",
    "\n",
    "\n",
    "customer_age = 49\n",
    "account_balance = 120078.89\n",
    "is_millionaire = False\n",
    "\n",
    "# Print the data type of is_millionaire\n",
    "print(type(is_millionaire))"
   ]
  }
 ],
 "metadata": {
  "kernelspec": {
   "display_name": "Python 3 (ipykernel)",
   "language": "python",
   "name": "python3"
  },
  "language_info": {
   "codemirror_mode": {
    "name": "ipython",
    "version": 3
   },
   "file_extension": ".py",
   "mimetype": "text/x-python",
   "name": "python",
   "nbconvert_exporter": "python",
   "pygments_lexer": "ipython3",
   "version": "3.12.2"
  }
 },
 "nbformat": 4,
 "nbformat_minor": 5
}
