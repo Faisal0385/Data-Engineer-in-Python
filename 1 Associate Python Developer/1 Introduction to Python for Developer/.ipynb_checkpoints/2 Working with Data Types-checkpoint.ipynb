{
 "cells": [
  {
   "cell_type": "markdown",
   "id": "55d5c582-e24d-4641-ade3-aca984d0961e",
   "metadata": {},
   "source": [
    "# Working with Data Types"
   ]
  },
  {
   "cell_type": "markdown",
   "id": "729b74a0-3070-4aae-ad53-f70fc6206fdf",
   "metadata": {},
   "source": [
    "\n",
    "50 XP\n",
    "Multi-line strings\n",
    "100 XP\n",
    "Modifying string variables\n",
    "100 XP\n",
    "Lists\n",
    "50 XP\n",
    "Building a party playlist\n",
    "100 XP\n",
    "Subsetting lists\n",
    "100 XP\n",
    "Dictionaries\n",
    "50 XP\n",
    "Building a playlist dictionary\n",
    "100 XP\n",
    "Working with dictionaries\n",
    "100 XP\n",
    "Sets and tuples\n",
    "50 XP\n",
    "Last quarter's revenue\n",
    "100 XP\n",
    "DJ Sets\n",
    "100 XP\n",
    "Choosing a data structure"
   ]
  },
  {
   "cell_type": "markdown",
   "id": "36b0f527-8c97-48d8-bde3-a2623600658a",
   "metadata": {},
   "source": [
    "Working with strings"
   ]
  },
  {
   "cell_type": "code",
   "execution_count": 1,
   "id": "025bd52a-93fd-446e-9c7e-b094e8febf80",
   "metadata": {},
   "outputs": [
    {
     "name": "stdout",
     "output_type": "stream",
     "text": [
      "\n",
      "I really enjoy the courses,\n",
      "and they are easy to fit into my busy schedule. \n",
      "I wish I had started using your platform sooner.\n",
      "I'll be recommending you to my friends!!\n",
      "\n",
      "\n",
      "One year ago, I was unsure of how to make progress in my career. \n",
      "Now, I work as a Prompt Engineer, and I can't thank you enough! \n",
      "Keep up the great work.\n",
      "\n"
     ]
    }
   ],
   "source": [
    "# Create review_one\n",
    "review_one= \"\"\"\n",
    "I really enjoy the courses,\n",
    "and they are easy to fit into my busy schedule. \n",
    "I wish I had started using your platform sooner.\n",
    "I'll be recommending you to my friends!!\n",
    "\"\"\"\n",
    "\n",
    "# Create review_two\n",
    "review_two= \"\"\"\n",
    "One year ago, I was unsure of how to make progress in my career. \n",
    "Now, I work as a Prompt Engineer, and I can't thank you enough! \n",
    "Keep up the great work.\n",
    "\"\"\"\n",
    "\n",
    "# Print the two reviews individually\n",
    "print(review_one)\n",
    "print(review_two)"
   ]
  },
  {
   "cell_type": "code",
   "execution_count": null,
   "id": "52b80b97-ab7c-4adb-9179-68b773de9a02",
   "metadata": {},
   "outputs": [],
   "source": []
  }
 ],
 "metadata": {
  "kernelspec": {
   "display_name": "Python 3 (ipykernel)",
   "language": "python",
   "name": "python3"
  },
  "language_info": {
   "codemirror_mode": {
    "name": "ipython",
    "version": 3
   },
   "file_extension": ".py",
   "mimetype": "text/x-python",
   "name": "python",
   "nbconvert_exporter": "python",
   "pygments_lexer": "ipython3",
   "version": "3.12.2"
  }
 },
 "nbformat": 4,
 "nbformat_minor": 5
}
