{
 "cells": [
  {
   "cell_type": "markdown",
   "id": "55d5c582-e24d-4641-ade3-aca984d0961e",
   "metadata": {},
   "source": [
    "# Working with Data Types"
   ]
  },
  {
   "cell_type": "markdown",
   "id": "729b74a0-3070-4aae-ad53-f70fc6206fdf",
   "metadata": {},
   "source": [
    "Working with strings\n",
    "50 XP\n",
    "Multi-line strings\n",
    "100 XP\n",
    "Modifying string variables\n",
    "100 XP\n",
    "Lists\n",
    "50 XP\n",
    "Building a party playlist\n",
    "100 XP\n",
    "Subsetting lists\n",
    "100 XP\n",
    "Dictionaries\n",
    "50 XP\n",
    "Building a playlist dictionary\n",
    "100 XP\n",
    "Working with dictionaries\n",
    "100 XP\n",
    "Sets and tuples\n",
    "50 XP\n",
    "Last quarter's revenue\n",
    "100 XP\n",
    "DJ Sets\n",
    "100 XP\n",
    "Choosing a data structure"
   ]
  }
 ],
 "metadata": {
  "kernelspec": {
   "display_name": "Python 3 (ipykernel)",
   "language": "python",
   "name": "python3"
  },
  "language_info": {
   "codemirror_mode": {
    "name": "ipython",
    "version": 3
   },
   "file_extension": ".py",
   "mimetype": "text/x-python",
   "name": "python",
   "nbconvert_exporter": "python",
   "pygments_lexer": "ipython3",
   "version": "3.12.2"
  }
 },
 "nbformat": 4,
 "nbformat_minor": 5
}
