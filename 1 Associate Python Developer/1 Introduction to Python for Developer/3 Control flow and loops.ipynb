{
 "cells": [
  {
   "cell_type": "code",
   "execution_count": null,
   "id": "1610d7ea-3aff-4216-8529-e4b608f85437",
   "metadata": {},
   "outputs": [],
   "source": []
  }
 ],
 "metadata": {
  "kernelspec": {
   "display_name": "",
   "name": ""
  },
  "language_info": {
   "name": ""
  }
 },
 "nbformat": 4,
 "nbformat_minor": 5
}
