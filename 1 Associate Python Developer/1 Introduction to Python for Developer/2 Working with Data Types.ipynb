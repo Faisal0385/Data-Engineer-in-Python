{
 "cells": [
  {
   "cell_type": "code",
   "execution_count": null,
   "id": "4bfacaba-3183-40ff-864a-4e2529da84f6",
   "metadata": {},
   "outputs": [],
   "source": []
  }
 ],
 "metadata": {
  "kernelspec": {
   "display_name": "",
   "name": ""
  },
  "language_info": {
   "name": ""
  }
 },
 "nbformat": 4,
 "nbformat_minor": 5
}
