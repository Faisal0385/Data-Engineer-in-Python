{
 "cells": [
  {
   "cell_type": "markdown",
   "id": "a02d8ab9-d71b-4b55-b3a3-6389d46f4872",
   "metadata": {},
   "source": [
    "# Introduction to Python"
   ]
  },
  {
   "cell_type": "markdown",
   "id": "bc66ea3b-3370-4a27-a98f-1fa04a695a38",
   "metadata": {},
   "source": [
    "What is Python?"
   ]
  },
  {
   "cell_type": "markdown",
   "id": "0de48da5-b050-4b69-8339-356dec124ba5",
   "metadata": {},
   "source": [
    "Writing our first Python script"
   ]
  },
  {
   "cell_type": "markdown",
   "id": "33c154fb-2703-4425-a200-772af106b759",
   "metadata": {},
   "source": [
    "Python Syntax"
   ]
  },
  {
   "cell_type": "markdown",
   "id": "89070e10-08e7-4ff6-a5a5-6e93b346ebe7",
   "metadata": {},
   "source": [
    "Python as a calculator"
   ]
  },
  {
   "cell_type": "code",
   "execution_count": null,
   "id": "2b4555af-41b6-4b18-96d5-e631e5fd0eac",
   "metadata": {},
   "outputs": [],
   "source": [
    "More calculations\n",
    "100 XP\n",
    "Variables\n",
    "50 XP\n",
    "Working with number variables\n",
    "100 XP\n",
    "Updating variable values\n",
    "100 XP\n",
    "Checking data types"
   ]
  }
 ],
 "metadata": {
  "kernelspec": {
   "display_name": "Python 3 (ipykernel)",
   "language": "python",
   "name": "python3"
  },
  "language_info": {
   "codemirror_mode": {
    "name": "ipython",
    "version": 3
   },
   "file_extension": ".py",
   "mimetype": "text/x-python",
   "name": "python",
   "nbconvert_exporter": "python",
   "pygments_lexer": "ipython3",
   "version": "3.12.2"
  }
 },
 "nbformat": 4,
 "nbformat_minor": 5
}
