{
 "cells": [
  {
   "cell_type": "markdown",
   "id": "3f06faf7-72af-405a-b6c0-9175eca70544",
   "metadata": {},
   "source": [
    "# Using iterators in Python"
   ]
  },
  {
   "cell_type": "markdown",
   "id": "59ab46c2-0bfb-4ad9-ba15-b14f0fa992da",
   "metadata": {},
   "source": [
    "***"
   ]
  },
  {
   "cell_type": "markdown",
   "id": "fb67117f-512c-4159-a300-8cda1d941cc2",
   "metadata": {},
   "source": [
    "#### Iterating with a for loops\n",
    "* we can iterate over a list using a for loop"
   ]
  },
  {
   "cell_type": "code",
   "execution_count": 11,
   "id": "8b07377e-c1a5-49d0-ae92-8517b877b8ec",
   "metadata": {},
   "outputs": [
    {
     "name": "stdout",
     "output_type": "stream",
     "text": [
      "Faisal\n",
      "Kutb\n",
      "Riman\n",
      "Moin\n"
     ]
    }
   ],
   "source": [
    "employees = [\"Faisal\",\"Kutb\",\"Riman\",\"Moin\"]\n",
    "for value in employees:\n",
    "    print(value)"
   ]
  },
  {
   "cell_type": "markdown",
   "id": "793819fb-9889-4881-8087-50377ff46461",
   "metadata": {},
   "source": [
    "* we can iterate over a string using a for loop"
   ]
  },
  {
   "cell_type": "code",
   "execution_count": 14,
   "id": "93a1cafa-4b27-4e9f-9c37-66011f02b39d",
   "metadata": {},
   "outputs": [
    {
     "name": "stdout",
     "output_type": "stream",
     "text": [
      "D\n",
      "a\n",
      "t\n",
      "a\n",
      "c\n",
      "a\n",
      "m\n",
      "p\n"
     ]
    }
   ],
   "source": [
    "for letter in \"Datacamp\":\n",
    "    print(letter)"
   ]
  },
  {
   "cell_type": "markdown",
   "id": "532f9ce1-615b-47c0-8b7d-561e4b6877a2",
   "metadata": {},
   "source": [
    "* we can iterate over a range object using a for loop"
   ]
  },
  {
   "cell_type": "code",
   "execution_count": 15,
   "id": "8feb009d-1e80-4db2-bc99-717b51ced9ec",
   "metadata": {},
   "outputs": [
    {
     "name": "stdout",
     "output_type": "stream",
     "text": [
      "0\n",
      "1\n",
      "2\n",
      "3\n",
      "4\n"
     ]
    }
   ],
   "source": [
    "for i in range(5):\n",
    "    print(i)"
   ]
  },
  {
   "cell_type": "markdown",
   "id": "a82d2804-c776-4ad3-abf8-ec6167eefc59",
   "metadata": {},
   "source": [
    "***"
   ]
  },
  {
   "cell_type": "markdown",
   "id": "3bed6938-57a5-4d01-becd-6c6c0d78e533",
   "metadata": {},
   "source": [
    "#### Iterators vs. iterables\n",
    "##### Iterable\n",
    "Examples: lists, strings, dictionaries, file connections\n",
    "* An object with an associated iter() method\n",
    "* Applying iter() to an iterable creates an iterator\n",
    "##### Iterator\n",
    "Produces next value with next()"
   ]
  },
  {
   "cell_type": "markdown",
   "id": "c4051a9e-1613-4b2b-b7e9-70a90134ba5c",
   "metadata": {},
   "source": [
    "#### Iterating over iterables: next()"
   ]
  },
  {
   "cell_type": "code",
   "execution_count": 3,
   "id": "b6127e68-890d-4d47-a86e-858198a30b31",
   "metadata": {},
   "outputs": [
    {
     "data": {
      "text/plain": [
       "'D'"
      ]
     },
     "execution_count": 3,
     "metadata": {},
     "output_type": "execute_result"
    }
   ],
   "source": [
    "word = 'Da'\n",
    "it = iter(word)\n",
    "next(it)"
   ]
  },
  {
   "cell_type": "code",
   "execution_count": 4,
   "id": "9f29f25b-c3c2-4d3f-ac93-7cc0d6bc0bd3",
   "metadata": {},
   "outputs": [
    {
     "data": {
      "text/plain": [
       "'a'"
      ]
     },
     "execution_count": 4,
     "metadata": {},
     "output_type": "execute_result"
    }
   ],
   "source": [
    "next(it)"
   ]
  },
  {
   "cell_type": "markdown",
   "id": "4b1be86d-a963-482d-871b-258f896ef706",
   "metadata": {},
   "source": [
    "#### Iterating at once with *"
   ]
  },
  {
   "cell_type": "code",
   "execution_count": 5,
   "id": "d1bfc91b-6e88-4969-b37e-3ee357806fd1",
   "metadata": {},
   "outputs": [
    {
     "name": "stdout",
     "output_type": "stream",
     "text": [
      "D a t a\n"
     ]
    }
   ],
   "source": [
    "word = 'Data'\n",
    "it = iter(word)\n",
    "print(*it)"
   ]
  },
  {
   "cell_type": "code",
   "execution_count": 6,
   "id": "e5bbb378-9faf-414c-b718-f30a6b49c009",
   "metadata": {},
   "outputs": [
    {
     "name": "stdout",
     "output_type": "stream",
     "text": [
      "\n"
     ]
    }
   ],
   "source": [
    "print(*it)"
   ]
  },
  {
   "cell_type": "markdown",
   "id": "448368b4-1e78-4efd-91a9-eab72a67a9df",
   "metadata": {},
   "source": [
    "#### Iterating over dictionaries"
   ]
  },
  {
   "cell_type": "code",
   "execution_count": 25,
   "id": "551276d2-ca3d-46f8-b380-b408a90f2fac",
   "metadata": {},
   "outputs": [
    {
     "name": "stdout",
     "output_type": "stream",
     "text": [
      "hugo bowne-anderson\n",
      "francis castro\n"
     ]
    }
   ],
   "source": [
    "pythonistas = {'hugo': 'bowne-anderson', 'francis': 'castro'}\n",
    "for key, value in pythonistas.items():\n",
    "    print(key, value)"
   ]
  },
  {
   "cell_type": "markdown",
   "id": "827c1c79-9f74-43cb-bf65-9bbc0ab61d60",
   "metadata": {},
   "source": [
    "#### Iterating over file connections"
   ]
  },
  {
   "cell_type": "code",
   "execution_count": 5,
   "id": "0bef2ccd-41a6-4b8a-9988-925b674a330c",
   "metadata": {},
   "outputs": [
    {
     "name": "stdout",
     "output_type": "stream",
     "text": [
      "This is a line\n",
      "\n",
      "This is a line\n",
      "\n",
      "This is a line\n",
      "\n"
     ]
    }
   ],
   "source": [
    "file = open('file.txt')\n",
    "it = iter(file)\n",
    "print(next(it))\n",
    "print(next(it))\n",
    "print(next(it))"
   ]
  },
  {
   "cell_type": "markdown",
   "id": "b64c75e3-8ce3-44aa-8291-122d0aa0c74c",
   "metadata": {},
   "source": [
    "#### Iterating over iterables (1)"
   ]
  },
  {
   "cell_type": "code",
   "execution_count": 13,
   "id": "c63ab47d-ffd5-4b6d-9121-8de33b099729",
   "metadata": {},
   "outputs": [
    {
     "name": "stdout",
     "output_type": "stream",
     "text": [
      "jay garrick\n",
      "barry allen\n",
      "wally west\n",
      "bart allen\n",
      "jay garrick\n",
      "barry allen\n",
      "wally west\n",
      "bart allen\n"
     ]
    }
   ],
   "source": [
    "# Create a list of strings: flash\n",
    "flash = ['jay garrick', 'barry allen', 'wally west', 'bart allen']\n",
    "\n",
    "# Print each list item in flash using a for loop\n",
    "for person in flash:\n",
    "    print(person)\n",
    "\n",
    "\n",
    "# Create an iterator for flash: superspeed\n",
    "superspeed = iter(flash)\n",
    "\n",
    "# Print each item from the iterator\n",
    "print(next(superspeed))\n",
    "print(next(superspeed))\n",
    "print(next(superspeed))\n",
    "print(next(superspeed))"
   ]
  },
  {
   "cell_type": "markdown",
   "id": "575f4e58-d2d7-417f-928c-73a1084c43ce",
   "metadata": {},
   "source": [
    "#### Iterating over iterables (2)"
   ]
  },
  {
   "cell_type": "code",
   "execution_count": 3,
   "id": "0de12fee-74b8-47bf-b728-374f82e55c1f",
   "metadata": {},
   "outputs": [
    {
     "name": "stdout",
     "output_type": "stream",
     "text": [
      "0\n",
      "1\n",
      "2\n",
      "0\n",
      "1\n",
      "2\n",
      "0\n",
      "1\n",
      "2\n",
      "3\n",
      "4\n"
     ]
    }
   ],
   "source": [
    "# Create an iterator for range(3): small_value\n",
    "small_value = iter(range(3))\n",
    "\n",
    "# Print the values in small_value\n",
    "print(next(small_value))\n",
    "print(next(small_value))\n",
    "print(next(small_value))\n",
    "\n",
    "# Loop over range(3) and print the values\n",
    "\n",
    "for num in range(3):\n",
    "    print(num)\n",
    "\n",
    "# Create an iterator for range(10 ** 100): googol\n",
    "googol = iter(range(10**100))\n",
    "\n",
    "# Print the first 5 values from googol\n",
    "print(next(googol))\n",
    "print(next(googol))\n",
    "print(next(googol))\n",
    "print(next(googol))\n",
    "print(next(googol))"
   ]
  },
  {
   "cell_type": "markdown",
   "id": "cb4b9d9f-0314-4a84-8563-8c360556187a",
   "metadata": {},
   "source": [
    "#### Iterators as function arguments"
   ]
  },
  {
   "cell_type": "code",
   "execution_count": 5,
   "id": "fb736e8d-be5f-4c99-a5cf-7ef6fa8e60be",
   "metadata": {},
   "outputs": [
    {
     "name": "stdout",
     "output_type": "stream",
     "text": [
      "range(10, 21)\n",
      "[10, 11, 12, 13, 14, 15, 16, 17, 18, 19, 20]\n",
      "165\n"
     ]
    }
   ],
   "source": [
    "# Create a range object: values\n",
    "values = range(10,21)\n",
    "\n",
    "# Print the range object\n",
    "print(values)\n",
    "\n",
    "# Create a list of integers: values_list\n",
    "values_list = list(values)\n",
    "\n",
    "# Print values_list\n",
    "print(values_list)\n",
    "\n",
    "# Get the sum of values: values_sum\n",
    "values_sum = sum(values)\n",
    "\n",
    "# Print values_sum\n",
    "print(values_sum)"
   ]
  },
  {
   "cell_type": "markdown",
   "id": "956e94c2-cf86-4100-8103-0b92e591c369",
   "metadata": {},
   "source": [
    "#### Enumerate"
   ]
  },
  {
   "cell_type": "markdown",
   "id": "92d8a134-5d8f-459d-9403-ded42d8db4f3",
   "metadata": {},
   "source": [
    "enumerate is a function that takes any iterable as argument, such as a list, and returns a special enumerate object, which consists of pairs containing the elements of the original iterable, along with their index within the iterable. We can use the function list to turn this enumerate object into a list of tuples and print it to see what it contains. "
   ]
  },
  {
   "cell_type": "code",
   "execution_count": 50,
   "id": "b36c5edb-c357-4c0d-bb3c-12cde8effc4f",
   "metadata": {},
   "outputs": [
    {
     "name": "stdout",
     "output_type": "stream",
     "text": [
      "<class 'enumerate'>\n",
      "<enumerate object at 0x0000022892E9F880>\n"
     ]
    }
   ],
   "source": [
    "avengers = ['cap', 'ironman','thor']\n",
    "e = enumerate(avengers)\n",
    "print(type(e))\n",
    "print(e)"
   ]
  },
  {
   "cell_type": "code",
   "execution_count": 51,
   "id": "7883d405-b88f-415a-892b-dd1a1335f8b6",
   "metadata": {},
   "outputs": [
    {
     "name": "stdout",
     "output_type": "stream",
     "text": [
      "[(0, 'cap'), (1, 'ironman'), (2, 'thor')]\n"
     ]
    }
   ],
   "source": [
    "e_list = list(e)\n",
    "print(e_list)"
   ]
  },
  {
   "cell_type": "markdown",
   "id": "470149a3-6233-4243-93ab-8acd0de2366a",
   "metadata": {},
   "source": [
    "### enumerate() and unpack\n",
    "The enumerate object itself is also an iterable and we can loop over it while unpacking its elements using the clause for index, value in enumerate(avengers). It is the default behavior of enumerate to begin indexing at 0. However, you can alter this with a second argument, start, which you can see here."
   ]
  },
  {
   "cell_type": "code",
   "execution_count": 52,
   "id": "afe1be57-e7a8-41f5-9dbe-8d36230bbc4a",
   "metadata": {},
   "outputs": [
    {
     "name": "stdout",
     "output_type": "stream",
     "text": [
      "0 cap\n",
      "1 ironman\n",
      "2 thor\n"
     ]
    }
   ],
   "source": [
    "for index,value in enumerate(avengers):\n",
    "    print(index, value)"
   ]
  },
  {
   "cell_type": "markdown",
   "id": "9603851b-c624-45b4-9b26-b972a5880fdb",
   "metadata": {},
   "source": [
    "#### Using zip()\n",
    "\n",
    "Now let's move on to zip, which accepts an arbitrary number of iterables and returns an iterator of tuples. Here we have two lists, one of the avengers, the other of their names. Zipping them together creates a zip object which is an iterator of tuples. We can turn this zip object into a list and print the list. The first element is a tuple containing the first elements of each list that was zipped. The second element is a tuple containing the second elements of each list that was zipped and so on."
   ]
  },
  {
   "cell_type": "code",
   "execution_count": 42,
   "id": "04cf253c-ff73-4cdf-ae1a-d504cb723db8",
   "metadata": {},
   "outputs": [
    {
     "name": "stdout",
     "output_type": "stream",
     "text": [
      "<zip object at 0x0000022892EA2DC0>\n"
     ]
    }
   ],
   "source": [
    "avengers = ['Thor','Ironman','Captain','Hulk']\n",
    "names=['Odinson','Stark','Roger','Bruce']\n",
    "\n",
    "z = zip(avengers, names)\n",
    "print(z)"
   ]
  },
  {
   "cell_type": "code",
   "execution_count": 43,
   "id": "e85d0bfc-0404-4604-a496-c140c5c0c6c8",
   "metadata": {},
   "outputs": [
    {
     "name": "stdout",
     "output_type": "stream",
     "text": [
      "[('Thor', 'Odinson'), ('Ironman', 'Stark'), ('Captain', 'Roger'), ('Hulk', 'Bruce')]\n"
     ]
    }
   ],
   "source": [
    "z_list = list(z)\n",
    "print(z_list)"
   ]
  },
  {
   "cell_type": "code",
   "execution_count": 44,
   "id": "0ad0f272-516b-4b46-8724-9ff08fd19682",
   "metadata": {},
   "outputs": [
    {
     "name": "stdout",
     "output_type": "stream",
     "text": [
      "Thor Odinson\n",
      "Ironman Stark\n",
      "Captain Roger\n",
      "Hulk Bruce\n"
     ]
    }
   ],
   "source": [
    "for avenger, name in zip(avengers, names):\n",
    "    print(avenger, name)"
   ]
  },
  {
   "cell_type": "code",
   "execution_count": 49,
   "id": "e990f41a-b7d4-441a-b175-b83a70ecbe4b",
   "metadata": {},
   "outputs": [
    {
     "name": "stdout",
     "output_type": "stream",
     "text": [
      "('Thor', 'Odinson') ('Ironman', 'Stark') ('Captain', 'Roger') ('Hulk', 'Bruce')\n"
     ]
    }
   ],
   "source": [
    "z = zip(avengers, names)\n",
    "\n",
    "# Print zip with *\n",
    "print(*z)"
   ]
  },
  {
   "cell_type": "markdown",
   "id": "00b92db3-985d-4db2-a35c-3b1a83c653c5",
   "metadata": {},
   "source": [
    "#### Example Using enumerate"
   ]
  },
  {
   "cell_type": "code",
   "execution_count": 2,
   "id": "c5ac100a-6266-4922-b67e-d7be70242dea",
   "metadata": {},
   "outputs": [
    {
     "name": "stdout",
     "output_type": "stream",
     "text": [
      "[(0, 'charles xavier'), (1, 'bobby drake'), (2, 'kurt wagner'), (3, 'max eisenhardt'), (4, 'kitty pryde')]\n",
      "0 charles xavier\n",
      "1 bobby drake\n",
      "2 kurt wagner\n",
      "3 max eisenhardt\n",
      "4 kitty pryde\n",
      "0 charles xavier\n",
      "1 bobby drake\n",
      "2 kurt wagner\n",
      "3 max eisenhardt\n",
      "4 kitty pryde\n"
     ]
    }
   ],
   "source": [
    "# Create a list of strings: mutants\n",
    "mutants = ['charles xavier', \n",
    "            'bobby drake', \n",
    "            'kurt wagner', \n",
    "            'max eisenhardt', \n",
    "            'kitty pryde']\n",
    "\n",
    "# Create a list of tuples: mutant_list\n",
    "mutant_list = list(enumerate(mutants))\n",
    "\n",
    "# Print the list of tuples\n",
    "print(mutant_list)\n",
    "\n",
    "# Unpack and print the tuple pairs\n",
    "for index1, value1 in mutant_list:\n",
    "    print(index1, value1)\n",
    "\n",
    "# Change the start index\n",
    "for index2, value2 in mutant_list:\n",
    "    print(index2, value2)"
   ]
  },
  {
   "cell_type": "code",
   "execution_count": null,
   "id": "e5a9c3ed-ccd7-4a11-b6d7-a2ef73fca500",
   "metadata": {},
   "outputs": [],
   "source": []
  },
  {
   "cell_type": "code",
   "execution_count": null,
   "id": "a0972832-ee55-4020-abd6-e5e1c47de1a4",
   "metadata": {},
   "outputs": [],
   "source": []
  }
 ],
 "metadata": {
  "kernelspec": {
   "display_name": "Python 3 (ipykernel)",
   "language": "python",
   "name": "python3"
  },
  "language_info": {
   "codemirror_mode": {
    "name": "ipython",
    "version": 3
   },
   "file_extension": ".py",
   "mimetype": "text/x-python",
   "name": "python",
   "nbconvert_exporter": "python",
   "pygments_lexer": "ipython3",
   "version": "3.12.2"
  }
 },
 "nbformat": 4,
 "nbformat_minor": 5
}
