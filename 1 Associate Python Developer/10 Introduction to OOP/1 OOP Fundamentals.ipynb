{
 "cells": [
  {
   "cell_type": "code",
   "execution_count": null,
   "id": "35d4419b-1299-4880-baa0-9735baeba7a9",
   "metadata": {},
   "outputs": [],
   "source": [
    "OOP Fundamentals\n",
    "1000 XP\n",
    "Inheritance and Polymorphism\n",
    "1200 XP\n",
    "Integrating with Standard Python\n",
    "900 XP"
   ]
  },
  {
   "cell_type": "markdown",
   "id": "46e0c148-918e-4760-a923-30fc2e19f006",
   "metadata": {},
   "source": [
    "# 🏗️ Introduction to Object-Oriented Programming (OOP) in Python"
   ]
  },
  {
   "cell_type": "markdown",
   "id": "14039390-f5c3-437e-98af-2bf316cbce21",
   "metadata": {},
   "source": [
    "#### OOP Fundamentals"
   ]
  },
  {
   "cell_type": "markdown",
   "id": "6f11c023-a04b-4982-8a4d-88720cd2fc58",
   "metadata": {},
   "source": [
    "#### 📝 What is OOP?\n",
    "##### OOP (Object-Oriented Programming) is a paradigm where code is structured as objects, each containing **data (attributes)** and **behavior (methods)**."
   ]
  },
  {
   "cell_type": "code",
   "execution_count": 1,
   "id": "5ef19c84-3fc6-4453-af97-63886947ee7c",
   "metadata": {},
   "outputs": [
    {
     "name": "stdout",
     "output_type": "stream",
     "text": [
      "<class 'int'>\n",
      "<class 'str'>\n",
      "<class 'list'>\n",
      "The __init__ method was called\n",
      "I am Customer Lara de Silva\n",
      "Deposited 500. New balance: 1500\n",
      "Withdrawn 200. New balance: 1300\n",
      "Insufficient balance!\n",
      "['__class__', '__delattr__', '__dict__', '__dir__', '__doc__', '__eq__', '__format__', '__ge__', '__getattribute__', '__getstate__', '__gt__', '__hash__', '__init__', '__init_subclass__', '__le__', '__lt__', '__module__', '__ne__', '__new__', '__reduce__', '__reduce_ex__', '__repr__', '__setattr__', '__sizeof__', '__str__', '__subclasshook__', '__weakref__', 'balance', 'deposit', 'identify', 'name', 'withdraw']\n",
      "The __init__ method was called\n",
      "Lara 0\n",
      "['__class__', '__delattr__', '__dict__', '__dir__', '__doc__', '__eq__', '__format__', '__ge__', '__getattribute__', '__getstate__', '__gt__', '__hash__', '__init__', '__init_subclass__', '__le__', '__lt__', '__module__', '__ne__', '__new__', '__reduce__', '__reduce_ex__', '__repr__', '__setattr__', '__sizeof__', '__str__', '__subclasshook__', '__weakref__', 'balance', 'name']\n"
     ]
    }
   ],
   "source": [
    "\n",
    "# 📌 Procedural vs Object-Oriented Programming\n",
    "# Procedural programming:\n",
    "# ✅ Code as a sequence of steps\n",
    "# ✅ Good for data analysis\n",
    "\n",
    "# Object-Oriented Programming:\n",
    "# ✅ Code as interactions between objects\n",
    "# ✅ Great for building software\n",
    "# ✅ More maintainable and reusable\n",
    "\n",
    "## 🔹 Objects in Python\n",
    "# Everything in Python is an object! \n",
    "print(type(5))  # <class 'int'>\n",
    "print(type(\"Hello\"))  # <class 'str'>\n",
    "print(type([]))  # <class 'list'>\n",
    "\n",
    "## 🔹 Classes as Blueprints\n",
    "# A **class** defines a blueprint for creating objects.\n",
    "\n",
    "class Customer:\n",
    "    pass\n",
    "\n",
    "# Creating objects\n",
    "c1 = Customer()\n",
    "c2 = Customer()\n",
    "\n",
    "## 🔹 Attributes and Methods\n",
    "# **Attributes** represent the state of an object.\n",
    "# **Methods** represent the behavior of an object.\n",
    "\n",
    "class Customer:\n",
    "    def __init__(self, name, balance=0):\n",
    "        self.name = name  # Attribute assignment in constructor\n",
    "        self.balance = balance\n",
    "        print(\"The __init__ method was called\")\n",
    "    \n",
    "    def identify(self):\n",
    "        print(f\"I am Customer {self.name}\")\n",
    "    \n",
    "    def deposit(self, amount):\n",
    "        self.balance += amount\n",
    "        print(f\"Deposited {amount}. New balance: {self.balance}\")\n",
    "    \n",
    "    def withdraw(self, amount):\n",
    "        if amount > self.balance:\n",
    "            print(\"Insufficient balance!\")\n",
    "        else:\n",
    "            self.balance -= amount\n",
    "            print(f\"Withdrawn {amount}. New balance: {self.balance}\")\n",
    "\n",
    "# Creating an object\n",
    "cust = Customer(\"Lara de Silva\", 1000)\n",
    "cust.identify()\n",
    "cust.deposit(500)\n",
    "cust.withdraw(200)\n",
    "cust.withdraw(2000)\n",
    "\n",
    "## 🔹 Displaying Attributes & Methods\n",
    "print(dir(cust))  # Lists all attributes & methods of the object\n",
    "\n",
    "## 🔹 Understanding `self`\n",
    "# `self` refers to the current instance of the class.\n",
    "# It allows methods to modify the instance’s attributes.\n",
    "\n",
    "## 🔹 The `__init__` Constructor\n",
    "# The `__init__` method initializes the attributes of a class when an object is created.\n",
    "\n",
    "## 🔹 Best Practices for OOP in Python\n",
    "# ✅ Initialize attributes in `__init__`\n",
    "# ✅ Use CamelCase for class names\n",
    "# ✅ Use snake_case for methods and attributes\n",
    "# ✅ Keep `self` as `self` for readability\n",
    "# ✅ Use docstrings for documentation\n",
    "\n",
    "class MyClass:\n",
    "    \"\"\"This class demonstrates OOP principles.\"\"\"\n",
    "    pass\n",
    "\n",
    "## 🔹 Class Anatomy\n",
    "# - **Class Name**: Defined using the `class` keyword.\n",
    "# - **Attributes**: Variables stored inside objects.\n",
    "# - **Methods**: Functions defined inside a class that interact with attributes.\n",
    "\n",
    "## 🔹 Default Arguments in Constructors\n",
    "class Customer:\n",
    "    def __init__(self, name, balance=0):\n",
    "        self.name = name\n",
    "        self.balance = balance\n",
    "        print(\"The __init__ method was called\")\n",
    "\n",
    "cust1 = Customer(\"Lara\")\n",
    "print(cust1.name, cust1.balance)  # Lara 0\n",
    "\n",
    "## 🔹 Using `dir()` to Inspect an Object\n",
    "# `dir(object)` returns a list of all attributes and methods available to an object.\n",
    "print(dir(cust1))\n",
    "\n",
    "## 🔹 Summary\n",
    "# - **OOP organizes code using objects** ✅\n",
    "# - **Classes are blueprints for objects** 🏗️\n",
    "# - **Attributes store data, methods define behavior** 🔄\n",
    "# - **`self` represents the instance of the class** 🆔\n",
    "# - **Use `__init__` for initialization** 🚀\n",
    "# - **Follow best practices for maintainable code** 🛠️"
   ]
  },
  {
   "cell_type": "code",
   "execution_count": null,
   "id": "6b61a1b1-3e24-4515-9f0a-0b270314ef41",
   "metadata": {},
   "outputs": [],
   "source": []
  }
 ],
 "metadata": {
  "kernelspec": {
   "display_name": "Python 3 (ipykernel)",
   "language": "python",
   "name": "python3"
  },
  "language_info": {
   "codemirror_mode": {
    "name": "ipython",
    "version": 3
   },
   "file_extension": ".py",
   "mimetype": "text/x-python",
   "name": "python",
   "nbconvert_exporter": "python",
   "pygments_lexer": "ipython3",
   "version": "3.12.2"
  }
 },
 "nbformat": 4,
 "nbformat_minor": 5
}
