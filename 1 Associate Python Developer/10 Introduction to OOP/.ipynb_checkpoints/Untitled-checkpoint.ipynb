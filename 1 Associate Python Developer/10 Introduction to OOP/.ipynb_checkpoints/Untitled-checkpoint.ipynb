{
 "cells": [
  {
   "cell_type": "code",
   "execution_count": null,
   "id": "35d4419b-1299-4880-baa0-9735baeba7a9",
   "metadata": {},
   "outputs": [],
   "source": [
    "OOP Fundamentals\n",
    "1000 XP\n",
    "Inheritance and Polymorphism\n",
    "1200 XP\n",
    "Integrating with Standard Python\n",
    "900 XP"
   ]
  }
 ],
 "metadata": {
  "kernelspec": {
   "display_name": "Python 3 (ipykernel)",
   "language": "python",
   "name": "python3"
  },
  "language_info": {
   "codemirror_mode": {
    "name": "ipython",
    "version": 3
   },
   "file_extension": ".py",
   "mimetype": "text/x-python",
   "name": "python",
   "nbconvert_exporter": "python",
   "pygments_lexer": "ipython3",
   "version": "3.12.2"
  }
 },
 "nbformat": 4,
 "nbformat_minor": 5
}
