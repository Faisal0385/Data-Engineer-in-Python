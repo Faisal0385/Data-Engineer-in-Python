{
 "cells": [
  {
   "cell_type": "markdown",
   "id": "65339895-5d65-4130-a117-b36a7e77af2c",
   "metadata": {},
   "source": [
    "# 🐍 Introduction to Object-Oriented Programming (OOP) in Python\n",
    "\n",
    "## OOP (Object-Oriented Programming) is a paradigm where code is structured as objects, each containing **data (attributes)** and **behavior (methods)**.\n",
    "---"
   ]
  },
  {
   "cell_type": "markdown",
   "id": "66028129-2859-4705-a320-3acc17d3047c",
   "metadata": {},
   "source": [
    "#### Procedural Programming"
   ]
  },
  {
   "cell_type": "code",
   "execution_count": 46,
   "id": "c24ce3bd-ecb1-4bd5-bcea-1c12baca4844",
   "metadata": {},
   "outputs": [
    {
     "name": "stdout",
     "output_type": "stream",
     "text": [
      "30\n",
      "70\n",
      "150\n"
     ]
    }
   ],
   "source": [
    "# Procedural Programming Example\n",
    "a = 10\n",
    "b = 20\n",
    "print(a+b)\n",
    "\n",
    "a = 30\n",
    "b = 40\n",
    "print(a+b)\n",
    "\n",
    "a = 70\n",
    "b = 80\n",
    "print(a+b)"
   ]
  },
  {
   "cell_type": "markdown",
   "id": "0e0396d3-4120-4632-9f10-61f499b82b3e",
   "metadata": {},
   "source": [
    "#### Functional Programming"
   ]
  },
  {
   "cell_type": "code",
   "execution_count": 37,
   "id": "6276cfd1-1f57-4efa-880f-8c76b6094aff",
   "metadata": {},
   "outputs": [
    {
     "name": "stdout",
     "output_type": "stream",
     "text": [
      "30\n",
      "70\n",
      "150\n"
     ]
    }
   ],
   "source": [
    "# Functional Programming Example\n",
    "def sum(a,b):\n",
    "    print(a+b)\n",
    "\n",
    "sum(10,20)\n",
    "sum(30,40)\n",
    "sum(70,80)"
   ]
  },
  {
   "cell_type": "markdown",
   "id": "029dcff5-8a68-4852-8384-2317f8353229",
   "metadata": {},
   "source": [
    "#### 🏗 Classes as Blueprints\n",
    "* A class is a template for creating objects 📄\n",
    "* Python objects of the same type behave in the same way"
   ]
  },
  {
   "cell_type": "code",
   "execution_count": 48,
   "id": "d6381bbb-87e9-47df-b0f2-aa618b16b70c",
   "metadata": {},
   "outputs": [],
   "source": [
    "# class syntax\n",
    "class ClassName:\n",
    "    # Placeholder class\n",
    "    pass"
   ]
  },
  {
   "cell_type": "code",
   "execution_count": 49,
   "id": "d75d6f27-5437-4bb0-a474-a4d139809dfe",
   "metadata": {},
   "outputs": [],
   "source": [
    "# Creating objects\n",
    "c_one = ClassName()  \n",
    "c_two = ClassName()"
   ]
  },
  {
   "cell_type": "markdown",
   "id": "4d4f43f1-adbd-44af-a4bf-7733901bf708",
   "metadata": {},
   "source": [
    "#### 🔵 Objects in Python  \n",
    "**Object** = 🗂 Data + ⚙️ Functionality  \n",
    "- **State** 🏷️ → An object's data  \n",
    "- **Behavior** 🎭 → An object's functionality  \n",
    "\n",
    "📌 **Examples of Objects in Python**  \n",
    "```python\n",
    "5               # Integer (int)\n",
    "\"Hello\"         # String (str)\n",
    "sum()           # Function (function)\n",
    "pd.DataFrame()  # Pandas DataFrame (DataFrame)"
   ]
  },
  {
   "cell_type": "code",
   "execution_count": 29,
   "id": "557b1637-f795-404e-ae0b-c949752fafdb",
   "metadata": {},
   "outputs": [
    {
     "name": "stdout",
     "output_type": "stream",
     "text": [
      "<class 'list'>\n"
     ]
    }
   ],
   "source": [
    "# Example: Check class of an object\n",
    "print(type([1, 2, 3]))  # Output: <class 'list'>"
   ]
  },
  {
   "cell_type": "markdown",
   "id": "5782e3b7-2313-47f9-8aca-de0845291ca5",
   "metadata": {},
   "source": [
    "#### 🔍 Displaying Attributes & Methods\n",
    "* Use dir() to list available attributes and methods 📝"
   ]
  },
  {
   "cell_type": "code",
   "execution_count": 45,
   "id": "ee6f3507-d966-451a-8b01-156e7027f7ce",
   "metadata": {},
   "outputs": [
    {
     "name": "stdout",
     "output_type": "stream",
     "text": [
      "['__add__', '__class__', '__class_getitem__', '__contains__', '__delattr__', '__delitem__', '__dir__', '__doc__', '__eq__', '__format__', '__ge__', '__getattribute__', '__getitem__', '__getstate__', '__gt__', '__hash__', '__iadd__', '__imul__', '__init__', '__init_subclass__', '__iter__', '__le__', '__len__', '__lt__', '__mul__', '__ne__', '__new__', '__reduce__', '__reduce_ex__', '__repr__', '__reversed__', '__rmul__', '__setattr__', '__setitem__', '__sizeof__', '__str__', '__subclasshook__', 'append', 'clear', 'copy', 'count', 'extend', 'index', 'insert', 'pop', 'remove', 'reverse', 'sort']\n"
     ]
    }
   ],
   "source": [
    "print(dir([1, 2, 3, 4]))  # List all attributes & methods of a list"
   ]
  },
  {
   "cell_type": "code",
   "execution_count": 54,
   "id": "2357e926-fb6b-4355-b7eb-d4a74d2194e1",
   "metadata": {},
   "outputs": [
    {
     "name": "stdout",
     "output_type": "stream",
     "text": [
      "['__abs__', '__add__', '__bool__', '__ceil__', '__class__', '__delattr__', '__dir__', '__divmod__', '__doc__', '__eq__', '__float__', '__floor__', '__floordiv__', '__format__', '__ge__', '__getattribute__', '__getformat__', '__getnewargs__', '__getstate__', '__gt__', '__hash__', '__init__', '__init_subclass__', '__int__', '__le__', '__lt__', '__mod__', '__mul__', '__ne__', '__neg__', '__new__', '__pos__', '__pow__', '__radd__', '__rdivmod__', '__reduce__', '__reduce_ex__', '__repr__', '__rfloordiv__', '__rmod__', '__rmul__', '__round__', '__rpow__', '__rsub__', '__rtruediv__', '__setattr__', '__sizeof__', '__str__', '__sub__', '__subclasshook__', '__truediv__', '__trunc__', 'as_integer_ratio', 'conjugate', 'fromhex', 'hex', 'imag', 'is_integer', 'real']\n"
     ]
    }
   ],
   "source": [
    "print(dir(float))"
   ]
  },
  {
   "cell_type": "code",
   "execution_count": 55,
   "id": "b4519349-1205-4e3a-9002-f90b22f1029a",
   "metadata": {},
   "outputs": [
    {
     "name": "stdout",
     "output_type": "stream",
     "text": [
      "['__abs__', '__add__', '__and__', '__bool__', '__ceil__', '__class__', '__delattr__', '__dir__', '__divmod__', '__doc__', '__eq__', '__float__', '__floor__', '__floordiv__', '__format__', '__ge__', '__getattribute__', '__getnewargs__', '__getstate__', '__gt__', '__hash__', '__index__', '__init__', '__init_subclass__', '__int__', '__invert__', '__le__', '__lshift__', '__lt__', '__mod__', '__mul__', '__ne__', '__neg__', '__new__', '__or__', '__pos__', '__pow__', '__radd__', '__rand__', '__rdivmod__', '__reduce__', '__reduce_ex__', '__repr__', '__rfloordiv__', '__rlshift__', '__rmod__', '__rmul__', '__ror__', '__round__', '__rpow__', '__rrshift__', '__rshift__', '__rsub__', '__rtruediv__', '__rxor__', '__setattr__', '__sizeof__', '__str__', '__sub__', '__subclasshook__', '__truediv__', '__trunc__', '__xor__', 'as_integer_ratio', 'bit_count', 'bit_length', 'conjugate', 'denominator', 'from_bytes', 'imag', 'is_integer', 'numerator', 'real', 'to_bytes']\n"
     ]
    }
   ],
   "source": [
    "print(dir(int))"
   ]
  },
  {
   "cell_type": "markdown",
   "id": "236e5c58-f4f2-4e50-80ca-88d275032c48",
   "metadata": {},
   "source": [
    "***"
   ]
  },
  {
   "cell_type": "markdown",
   "id": "c1559592-4e78-48e3-b09e-70bb7dc8ecf4",
   "metadata": {},
   "source": [
    "#### 🔨 Creating a Class in Python\n",
    "    🎭 Adding Methods to a Class"
   ]
  },
  {
   "cell_type": "code",
   "execution_count": 28,
   "id": "99c33821-759b-4820-b2c7-869fb4845068",
   "metadata": {},
   "outputs": [
    {
     "name": "stdout",
     "output_type": "stream",
     "text": [
      "I am Customer Faisal\n"
     ]
    }
   ],
   "source": [
    "class Customer:    \n",
    "    def identify(self): \n",
    "        print(\"I am Customer Faisal\") \n",
    "\n",
    "# Creating object\n",
    "cust = Customer() \n",
    "cust.identify()"
   ]
  },
  {
   "cell_type": "markdown",
   "id": "6e11127a-0cd9-4b42-9730-e96859236f35",
   "metadata": {},
   "source": [
    "#### 🔹 Understanding self\n",
    "* self refers to the instance of the class 🏷️\n",
    "* It must be the first parameter in methods"
   ]
  },
  {
   "cell_type": "code",
   "execution_count": 50,
   "id": "c37dc68e-fb92-498a-9538-ea12c04a5c89",
   "metadata": {},
   "outputs": [
    {
     "name": "stdout",
     "output_type": "stream",
     "text": [
      "I am Customer Laura\n"
     ]
    }
   ],
   "source": [
    "class Customer:    \n",
    "    def identify(self, name): \n",
    "        print(\"I am Customer \" + name) \n",
    "\n",
    "# Creating object\n",
    "cust = Customer() \n",
    "cust.identify(\"Laura\")"
   ]
  },
  {
   "cell_type": "code",
   "execution_count": 51,
   "id": "9ca8f88b-63be-4184-88dd-d68727a876d3",
   "metadata": {},
   "outputs": [
    {
     "name": "stdout",
     "output_type": "stream",
     "text": [
      "I am Customer Laura\n"
     ]
    }
   ],
   "source": [
    "cust.identify(\"Laura\")  # Interpreted as: Customer.identify(cust, \"Laura\")"
   ]
  },
  {
   "cell_type": "markdown",
   "id": "ecf886fd-4cd5-4976-82c8-57f29e518782",
   "metadata": {},
   "source": [
    "#### 🏷️ Adding Attributes to a Class"
   ]
  },
  {
   "cell_type": "code",
   "execution_count": 52,
   "id": "c8de028a-0135-4a67-94cd-eba16a60a344",
   "metadata": {},
   "outputs": [
    {
     "name": "stdout",
     "output_type": "stream",
     "text": [
      "Lara de Silva\n"
     ]
    }
   ],
   "source": [
    "class Customer:   \n",
    "    def set_name(self, new_name):  \n",
    "        self.name = new_name  \n",
    "\n",
    "# Creating an object\n",
    "cust = Customer()  \n",
    "cust.set_name(\"Lara de Silva\")  \n",
    "print(cust.name)  # Output: Lara de Silva"
   ]
  },
  {
   "cell_type": "markdown",
   "id": "a5cdb743-01ef-4ce2-8064-a8b0b9b97672",
   "metadata": {},
   "source": [
    "#### 🏗 Constructor (__init__)\n",
    "* 🔹 Automatically called when an object is created"
   ]
  },
  {
   "cell_type": "code",
   "execution_count": 21,
   "id": "4b3003fd-7787-445e-ba48-e7431c1ce8e0",
   "metadata": {},
   "outputs": [
    {
     "name": "stdout",
     "output_type": "stream",
     "text": [
      "The __init__ method was called\n",
      "Lara de Silva\n"
     ]
    }
   ],
   "source": [
    "class Customer: \n",
    "    def __init__(self, name): \n",
    "        self.name = name \n",
    "        print(\"The __init__ method was called\") \n",
    "\n",
    "# Object creation\n",
    "cust = Customer(\"Lara de Silva\")  \n",
    "print(cust.name)  # Output: Lara de Silva"
   ]
  },
  {
   "cell_type": "markdown",
   "id": "b0f49d4d-e9f7-4a81-bc2d-0b8842cf9113",
   "metadata": {},
   "source": [
    "#### 🏦 Adding More Attributes (e.g., Balance)"
   ]
  },
  {
   "cell_type": "code",
   "execution_count": 22,
   "id": "64838d90-cd6a-4ad0-894d-e0618d78dba0",
   "metadata": {},
   "outputs": [
    {
     "name": "stdout",
     "output_type": "stream",
     "text": [
      "The __init__ method was called\n",
      "Lara de Silva\n",
      "1000\n"
     ]
    }
   ],
   "source": [
    "class Customer: \n",
    "    def __init__(self, name, balance):   \n",
    "        self.name = name \n",
    "        self.balance = balance      \n",
    "        print(\"The __init__ method was called\") \n",
    "\n",
    "# Creating an object\n",
    "cust = Customer(\"Lara de Silva\", 1000)  \n",
    "print(cust.name)    # Output: Lara de Silva\n",
    "print(cust.balance) # Output: 1000"
   ]
  },
  {
   "cell_type": "markdown",
   "id": "48e84d18-edb8-445b-af68-7e0ed0fd04bc",
   "metadata": {},
   "source": [
    "#### ⚙️ Default Arguments in Constructor"
   ]
  },
  {
   "cell_type": "code",
   "execution_count": 23,
   "id": "6079015c-5dbd-41bf-9d01-14e4c1592533",
   "metadata": {},
   "outputs": [
    {
     "name": "stdout",
     "output_type": "stream",
     "text": [
      "The __init__ method was called\n",
      "Lara de Silva\n",
      "0\n"
     ]
    }
   ],
   "source": [
    "class Customer: \n",
    "    def __init__(self, name, balance=0): \n",
    "        self.name = name \n",
    "        self.balance = balance  \n",
    "        print(\"The __init__ method was called\") \n",
    "\n",
    "# Creating an object with default balance\n",
    "cust = Customer(\"Lara de Silva\")  \n",
    "print(cust.name)    # Output: Lara de Silva\n",
    "print(cust.balance) # Output: 0"
   ]
  },
  {
   "cell_type": "markdown",
   "id": "8b6dc4f3-99da-4d61-bdf6-6f7b9741131e",
   "metadata": {},
   "source": [
    "#### 🎯 Best Practices in OOP\n",
    "    1️⃣ Initialize attributes in __init__() 🏗\n",
    "    2️⃣ Naming Conventions:\n",
    "        ✅ CamelCase for class names 🏷️\n",
    "        ✅ lower_snake_case for function & attribute names 🔡\n",
    "    3️⃣ Always use self consistently 🚀\n",
    "    4️⃣ Use docstrings to describe classes & methods 📝"
   ]
  }
 ],
 "metadata": {
  "kernelspec": {
   "display_name": "Python 3 (ipykernel)",
   "language": "python",
   "name": "python3"
  },
  "language_info": {
   "codemirror_mode": {
    "name": "ipython",
    "version": 3
   },
   "file_extension": ".py",
   "mimetype": "text/x-python",
   "name": "python",
   "nbconvert_exporter": "python",
   "pygments_lexer": "ipython3",
   "version": "3.12.2"
  }
 },
 "nbformat": 4,
 "nbformat_minor": 5
}
