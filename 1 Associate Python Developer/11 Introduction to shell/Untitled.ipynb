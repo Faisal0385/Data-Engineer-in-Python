{
 "cells": [
  {
   "cell_type": "code",
   "execution_count": null,
   "id": "09c86e12-a0f8-4096-90bc-d5d901b39cf9",
   "metadata": {},
   "outputs": [],
   "source": [
    "Manipulating files and directories\n",
    "1000 XP\n",
    "Manipulating data\n",
    "1000 XP\n",
    "Combining tools\n",
    "1100 XP\n",
    "Batch processing\n",
    "750 XP\n",
    "Creating new tools\n"
   ]
  }
 ],
 "metadata": {
  "kernelspec": {
   "display_name": "Python 3 (ipykernel)",
   "language": "python",
   "name": "python3"
  },
  "language_info": {
   "codemirror_mode": {
    "name": "ipython",
    "version": 3
   },
   "file_extension": ".py",
   "mimetype": "text/x-python",
   "name": "python",
   "nbconvert_exporter": "python",
   "pygments_lexer": "ipython3",
   "version": "3.12.2"
  }
 },
 "nbformat": 4,
 "nbformat_minor": 5
}
