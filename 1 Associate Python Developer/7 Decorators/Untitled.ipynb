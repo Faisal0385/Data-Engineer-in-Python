{
 "cells": [
  {
   "cell_type": "markdown",
   "id": "a4f6d3fc-3767-4a3d-87e9-2d25940518bc",
   "metadata": {},
   "source": [
    "Functions are objects\n",
    "50 XP\n",
    "Building a command line data app\n",
    "100 XP\n",
    "Reviewing your co-worker's code\n",
    "100 XP\n",
    "Returning functions for a math game\n",
    "100 XP\n",
    "Scope\n",
    "50 XP\n",
    "Understanding scope\n",
    "50 XP\n",
    "Modifying variables outside local scope\n",
    "100 XP\n",
    "Closures\n",
    "50 XP\n",
    "Checking for closure\n",
    "100 XP\n",
    "Closures keep your values safe\n",
    "100 XP\n",
    "Decorators\n",
    "50 XP\n",
    "Using decorator syntax\n",
    "100 XP\n",
    "Defining a decorator"
   ]
  },
  {
   "cell_type": "code",
   "execution_count": null,
   "id": "afcbd2f4-c62c-437b-8f77-47c759f3723a",
   "metadata": {},
   "outputs": [],
   "source": []
  }
 ],
 "metadata": {
  "kernelspec": {
   "display_name": "Python 3 (ipykernel)",
   "language": "python",
   "name": "python3"
  },
  "language_info": {
   "codemirror_mode": {
    "name": "ipython",
    "version": 3
   },
   "file_extension": ".py",
   "mimetype": "text/x-python",
   "name": "python",
   "nbconvert_exporter": "python",
   "pygments_lexer": "ipython3",
   "version": "3.12.2"
  }
 },
 "nbformat": 4,
 "nbformat_minor": 5
}
