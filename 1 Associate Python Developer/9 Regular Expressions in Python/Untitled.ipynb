{
 "cells": [
  {
   "cell_type": "code",
   "execution_count": null,
   "id": "c7482e13-671a-4757-983b-501f15fbe78b",
   "metadata": {},
   "outputs": [],
   "source": [
    "Basic Concepts of String Manipulation\n",
    "1050 XP\n",
    "Formatting Strings\n",
    "1050 XP\n",
    "Regular Expressions for Pattern Matching\n",
    "1400 XP\n",
    "Advanced Regular Expression Concepts"
   ]
  }
 ],
 "metadata": {
  "kernelspec": {
   "display_name": "Python 3 (ipykernel)",
   "language": "python",
   "name": "python3"
  },
  "language_info": {
   "codemirror_mode": {
    "name": "ipython",
    "version": 3
   },
   "file_extension": ".py",
   "mimetype": "text/x-python",
   "name": "python",
   "nbconvert_exporter": "python",
   "pygments_lexer": "ipython3",
   "version": "3.12.2"
  }
 },
 "nbformat": 4,
 "nbformat_minor": 5
}
